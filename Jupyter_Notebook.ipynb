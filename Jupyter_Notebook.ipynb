{
 "cells": [
  {
   "cell_type": "markdown",
   "metadata": {},
   "source": [
    "<center>\n",
    "    <img src=\"https://cf-courses-data.s3.us.cloud-object-storage.appdomain.cloud/IBMDeveloperSkillsNetwork-DS0105EN-SkillsNetwork/labs/Module2/images/SN_web_lightmode.png\" width=\"300\" alt=\"cognitiveclass.ai logo\">\n",
    "</center>\n"
   ]
  },
  {
   "cell_type": "markdown",
   "metadata": {},
   "source": [
    "#### Add your code below following the instructions given in the course\n"
   ]
  },
  {
   "cell_type": "markdown",
   "metadata": {},
   "source": [
    "# Markdown del cuaderno Jupyter_Notebook.ipynb"
   ]
  },
  {
   "cell_type": "markdown",
   "metadata": {
    "tags": []
   },
   "source": [
    "# Introducción a Jupyter Notebook"
   ]
  },
  {
   "cell_type": "markdown",
   "metadata": {},
   "source": [
    "## Lenguajes de Programación para Ciencia de Datos\n",
    "\n",
    "1. Python\n",
    "2. R\n",
    "3. SQL\n",
    "4. Julia\n",
    "5. Scala\n",
    "6. Java\n",
    "7. SAS\n",
    "8. MATLAB"
   ]
  },
  {
   "cell_type": "markdown",
   "metadata": {},
   "source": [
    "## Bibliotecas Populares para Ciencia de Datos\n",
    "\n",
    "- **Python**:\n",
    "  - NumPy\n",
    "  - Pandas\n",
    "  - Matplotlib\n",
    "  - Seaborn\n",
    "  - Scikit-learn\n",
    "  - TensorFlow\n",
    "  - Keras\n",
    "  - PyTorch\n",
    "\n",
    "- **R**:\n",
    "  - ggplot2\n",
    "  - dplyr\n",
    "  - tidyr\n",
    "  - caret\n",
    "  - randomForest\n",
    "  - shiny\n",
    "  - data.table\n",
    "\n",
    "- **Julia**:\n",
    "  - DataFrames.jl\n",
    "  - Flux.jl\n",
    "  - Plots.jl\n",
    "  - MLJ.jl"
   ]
  },
  {
   "cell_type": "markdown",
   "metadata": {},
   "source": [
    "## Herramientas de Ciencia de Datos\n",
    "\n",
    "| Herramienta          | Descripción                                                        |\n",
    "|----------------------|--------------------------------------------------------------------|\n",
    "| Jupyter Notebook     | Entorno interactivo para análisis de datos y visualización.        |\n",
    "| RStudio              | IDE para R, usado para análisis estadístico y visualización.       |\n",
    "| Apache Spark         | Plataforma de procesamiento de datos en gran escala.               |\n",
    "| Tableau              | Herramienta de visualización de datos interactiva.                 |\n",
    "| KNIME                | Plataforma de integración y análisis de datos sin código.          |\n",
    "| RapidMiner           | Plataforma para preparación, modelado y despliegue de datos.       |\n",
    "| TensorFlow           | Biblioteca de código abierto para aprendizaje automático.          |\n",
    "| Hadoop               | Marco para almacenamiento y procesamiento de grandes datos.        |\n",
    "| Orange               | Suite de herramientas de análisis de datos con interfaz visual.    |\n"
   ]
  },
  {
   "cell_type": "markdown",
   "metadata": {},
   "source": [
    "## Ejemplos de Expresiones Aritméticas\n",
    "\n",
    "Las expresiones aritméticas se utilizan para realizar cálculos matemáticos básicos. Aquí hay algunos ejemplos comunes:\n",
    "\n",
    "1. **Suma**:\n",
    "   - \\(5 + 3 = 8\\)\n",
    "\n",
    "2. **Resta**:\n",
    "   - \\(10 - 4 = 6\\)\n",
    "\n",
    "3. **Multiplicación**:\n",
    "   - \\(7 \\times 2 = 14\\)\n",
    "\n",
    "4. **División**:\n",
    "   - \\(20 \\div 4 = 5\\)\n",
    "\n",
    "5. **Potencia**:\n",
    "   - \\(3^2 = 9\\)\n",
    "\n",
    "6. **Módulo** (residuo de una división):\n",
    "   - \\(10 \\mod 3 = 1\\)"
   ]
  },
  {
   "cell_type": "code",
   "execution_count": 2,
   "metadata": {
    "tags": []
   },
   "outputs": [
    {
     "name": "stdout",
     "output_type": "stream",
     "text": [
      "Multiplicación (a * b): 15\n",
      "Suma (a + b + c): 10\n"
     ]
    }
   ],
   "source": [
    "# Código para multiplicar y sumar números\n",
    "\n",
    "# Definir los números\n",
    "a = 5\n",
    "b = 3\n",
    "c = 2\n",
    "\n",
    "# Multiplicación\n",
    "multiplicacion = a * b\n",
    "\n",
    "# Suma\n",
    "suma = a + b + c\n",
    "\n",
    "# Mostrar los resultados\n",
    "print(\"Multiplicación (a * b):\", multiplicacion)\n",
    "print(\"Suma (a + b + c):\", suma)"
   ]
  },
  {
   "cell_type": "code",
   "execution_count": 3,
   "metadata": {
    "tags": []
   },
   "outputs": [
    {
     "name": "stdout",
     "output_type": "stream",
     "text": [
      "150 minutos equivalen a 2 horas y 30 minutos.\n"
     ]
    }
   ],
   "source": [
    "# Conversión de minutos a horas\n",
    "\n",
    "# Definir los minutos\n",
    "minutos = 150\n",
    "\n",
    "# Calcular las horas y minutos restantes\n",
    "horas = minutos // 60  # División entera para obtener las horas\n",
    "minutos_restantes = minutos % 60  # Obtener los minutos restantes\n",
    "\n",
    "# Mostrar el resultado\n",
    "print(f\"{minutos} minutos equivalen a {horas} horas y {minutos_restantes} minutos.\")"
   ]
  },
  {
   "cell_type": "code",
   "execution_count": 4,
   "metadata": {
    "tags": []
   },
   "outputs": [
    {
     "name": "stdout",
     "output_type": "stream",
     "text": [
      "Objetivo 1: Incrementar las ventas en un 10% este trimestre.\n",
      "Objetivo 2: Mejorar la satisfacción del cliente en un 15% para fin de año.\n",
      "Objetivo 3: Reducir los costos operativos en un 5% mediante optimización de procesos.\n",
      "Objetivo 4: Lanzar al menos 3 nuevos productos al mercado el próximo año.\n",
      "Objetivo 5: Expandir la presencia de la marca en mercados internacionales.\n"
     ]
    }
   ],
   "source": [
    "# Listado de Objetivos\n",
    "\n",
    "objetivos = [\n",
    "    \"Incrementar las ventas en un 10% este trimestre.\",\n",
    "    \"Mejorar la satisfacción del cliente en un 15% para fin de año.\",\n",
    "    \"Reducir los costos operativos en un 5% mediante optimización de procesos.\",\n",
    "    \"Lanzar al menos 3 nuevos productos al mercado el próximo año.\",\n",
    "    \"Expandir la presencia de la marca en mercados internacionales.\",\n",
    "]\n",
    "\n",
    "# Imprimir los objetivos\n",
    "for i, objetivo in enumerate(objetivos, start=1):\n",
    "    print(f\"Objetivo {i}: {objetivo}\")"
   ]
  },
  {
   "cell_type": "markdown",
   "metadata": {},
   "source": [
    "### Luis Miguel Gómez Caballero"
   ]
  },
  {
   "cell_type": "code",
   "execution_count": null,
   "metadata": {},
   "outputs": [],
   "source": []
  }
 ],
 "metadata": {
  "kernelspec": {
   "display_name": "Python",
   "language": "python",
   "name": "conda-env-python-py"
  },
  "language_info": {
   "codemirror_mode": {
    "name": "ipython",
    "version": 3
   },
   "file_extension": ".py",
   "mimetype": "text/x-python",
   "name": "python",
   "nbconvert_exporter": "python",
   "pygments_lexer": "ipython3",
   "version": "3.7.12"
  }
 },
 "nbformat": 4,
 "nbformat_minor": 4
}
